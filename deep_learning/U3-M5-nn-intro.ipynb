{
 "cells": [
  {
   "cell_type": "markdown",
   "metadata": {
    "colab_type": "text",
    "id": "view-in-github"
   },
   "source": [
    "[View in Colaboratory](https://colab.research.google.com/github/DJCordhose/deep-learning-crash-course-notebooks/blob/master/U3-M5-nn-intro.ipynb)"
   ]
  },
  {
   "cell_type": "markdown",
   "metadata": {
    "colab_type": "text",
    "id": "XdfXfXK2-CiG"
   },
   "source": [
    "# Introduction to Neural Networks with TensorFlow and Keras layers"
   ]
  },
  {
   "cell_type": "code",
   "execution_count": 1,
   "metadata": {
    "colab": {},
    "colab_type": "code",
    "id": "hJR5Gb0X-CiJ"
   },
   "outputs": [],
   "source": [
    "import warnings\n",
    "warnings.filterwarnings('ignore')"
   ]
  },
  {
   "cell_type": "code",
   "execution_count": 2,
   "metadata": {
    "colab": {
     "base_uri": "https://localhost:8080/",
     "height": 34
    },
    "colab_type": "code",
    "id": "H6-QKhzW-CiN",
    "outputId": "3f148945-2718-4559-ca49-bba6dd51695d"
   },
   "outputs": [
    {
     "name": "stdout",
     "output_type": "stream",
     "text": [
      "Populating the interactive namespace from numpy and matplotlib\n"
     ]
    }
   ],
   "source": [
    "%matplotlib inline\n",
    "%pylab inline\n",
    "import matplotlib.pyplot as plt"
   ]
  },
  {
   "cell_type": "code",
   "execution_count": 3,
   "metadata": {
    "colab": {
     "base_uri": "https://localhost:8080/",
     "height": 34
    },
    "colab_type": "code",
    "id": "ezwqxSlf-CiS",
    "outputId": "832339c3-c09b-4d0a-8642-769bde73bc7a"
   },
   "outputs": [
    {
     "ename": "ModuleNotFoundError",
     "evalue": "No module named 'pandas'",
     "output_type": "error",
     "traceback": [
      "\u001b[0;31m---------------------------------------------------------------------------\u001b[0m",
      "\u001b[0;31mModuleNotFoundError\u001b[0m                       Traceback (most recent call last)",
      "\u001b[0;32m<ipython-input-3-6142b137f9a0>\u001b[0m in \u001b[0;36m<module>\u001b[0;34m\u001b[0m\n\u001b[0;32m----> 1\u001b[0;31m \u001b[0;32mimport\u001b[0m \u001b[0mpandas\u001b[0m \u001b[0;32mas\u001b[0m \u001b[0mpd\u001b[0m\u001b[0;34m\u001b[0m\u001b[0;34m\u001b[0m\u001b[0m\n\u001b[0m\u001b[1;32m      2\u001b[0m \u001b[0mprint\u001b[0m\u001b[0;34m(\u001b[0m\u001b[0mpd\u001b[0m\u001b[0;34m.\u001b[0m\u001b[0m__version__\u001b[0m\u001b[0;34m)\u001b[0m\u001b[0;34m\u001b[0m\u001b[0;34m\u001b[0m\u001b[0m\n",
      "\u001b[0;31mModuleNotFoundError\u001b[0m: No module named 'pandas'"
     ]
    }
   ],
   "source": [
    "import pandas as pd\n",
    "print(pd.__version__)"
   ]
  },
  {
   "cell_type": "code",
   "execution_count": null,
   "metadata": {
    "colab": {
     "base_uri": "https://localhost:8080/",
     "height": 34
    },
    "colab_type": "code",
    "id": "0rEa6M11-CiY",
    "outputId": "2fde9c4a-5dfc-42f1-aa06-b8d596b55413"
   },
   "outputs": [],
   "source": [
    "import tensorflow as tf\n",
    "tf.logging.set_verbosity(tf.logging.ERROR)\n",
    "print(tf.__version__)"
   ]
  },
  {
   "cell_type": "code",
   "execution_count": null,
   "metadata": {
    "colab": {
     "base_uri": "https://localhost:8080/",
     "height": 51
    },
    "colab_type": "code",
    "id": "SiHGGkyv-Cic",
    "outputId": "f41a7966-7371-4da8-abed-61f70d78f6d4"
   },
   "outputs": [],
   "source": [
    "# let's see what compute devices we have available, hopefully a GPU \n",
    "sess = tf.Session()\n",
    "devices = sess.list_devices()\n",
    "for d in devices:\n",
    "    print(d.name)"
   ]
  },
  {
   "cell_type": "code",
   "execution_count": null,
   "metadata": {
    "colab": {
     "base_uri": "https://localhost:8080/",
     "height": 34
    },
    "colab_type": "code",
    "id": "INqnlwV7-Cif",
    "outputId": "597fa146-b793-4ea8-b14f-a70140099471"
   },
   "outputs": [],
   "source": [
    "# a small sanity check, does tf seem to work ok?\n",
    "hello = tf.constant('Hello TF!')\n",
    "print(sess.run(hello))"
   ]
  },
  {
   "cell_type": "code",
   "execution_count": null,
   "metadata": {
    "colab": {
     "base_uri": "https://localhost:8080/",
     "height": 34
    },
    "colab_type": "code",
    "id": "IxMwM-z--Cik",
    "outputId": "46b0d1bc-13ac-44e7-8ad4-c5d59f23ce78"
   },
   "outputs": [],
   "source": [
    "from tensorflow import keras\n",
    "print(keras.__version__)"
   ]
  },
  {
   "cell_type": "markdown",
   "metadata": {
    "colab_type": "text",
    "id": "TcNRk70X-Cio"
   },
   "source": [
    "## Loading and preparing our data set for classification"
   ]
  },
  {
   "cell_type": "code",
   "execution_count": null,
   "metadata": {
    "colab": {},
    "colab_type": "code",
    "id": "aHeWRyn4-Civ"
   },
   "outputs": [],
   "source": [
    "df = pd.read_csv('./data/insurance-customers-1500.csv', sep=';')"
   ]
  },
  {
   "cell_type": "code",
   "execution_count": null,
   "metadata": {
    "colab": {
     "base_uri": "https://localhost:8080/",
     "height": 206
    },
    "colab_type": "code",
    "id": "AfSNEY1E-Ciy",
    "outputId": "fd7e9471-ccaf-4eb1-eb2c-5a8e8106fa14"
   },
   "outputs": [],
   "source": [
    "df.head()"
   ]
  },
  {
   "cell_type": "code",
   "execution_count": null,
   "metadata": {
    "colab": {
     "base_uri": "https://localhost:8080/",
     "height": 300
    },
    "colab_type": "code",
    "id": "sws5BYF4-Ci4",
    "outputId": "5e7aaccb-dc8b-4054-b18a-d7104b1b0490"
   },
   "outputs": [],
   "source": [
    "df.describe()"
   ]
  },
  {
   "cell_type": "markdown",
   "metadata": {
    "colab_type": "text",
    "id": "sYiqzG7Y-Ci9"
   },
   "source": [
    "## First important concept: You train a machine with your data to make it learn the relationship between some input data and a certain label - this is called supervised learning"
   ]
  },
  {
   "cell_type": "markdown",
   "metadata": {
    "colab_type": "text",
    "id": "7UuM67h--Ci-"
   },
   "source": [
    "<img src='https://raw.githubusercontent.com/DJCordhose/deep-learning-crash-course-notebooks/master/img/encoding3.jpg'>"
   ]
  },
  {
   "cell_type": "code",
   "execution_count": null,
   "metadata": {
    "colab": {},
    "colab_type": "code",
    "id": "PKnruLEO-Ci_"
   },
   "outputs": [],
   "source": [
    "# we deliberately decide \"group\" is going to be our label, \n",
    "# it is often named lower case y\n",
    "y = df['group']"
   ]
  },
  {
   "cell_type": "code",
   "execution_count": null,
   "metadata": {
    "colab": {},
    "colab_type": "code",
    "id": "C22IkDWt-CjB"
   },
   "outputs": [],
   "source": [
    "# since 'group' is now the label we want to predict, \n",
    "# we need to remove it from the training data \n",
    "df.drop('group', axis='columns', inplace=True)"
   ]
  },
  {
   "cell_type": "code",
   "execution_count": null,
   "metadata": {
    "colab": {},
    "colab_type": "code",
    "id": "JBSDw0v7-CjE"
   },
   "outputs": [],
   "source": [
    "# input data often is named upper case X, \n",
    "# the upper case indicates, that each row is a vector\n",
    "X = df.as_matrix()"
   ]
  },
  {
   "cell_type": "markdown",
   "metadata": {
    "colab_type": "text",
    "id": "aaG2cF5X-CjI"
   },
   "source": [
    "## Neural Networks using TensorFlow and Keras layers\n",
    "* Neural Networks consist of artificial neurons you organize in layers\n",
    "* each neuron is very simple, but, theoretically, having enough of them in a single layer can approximate any funtion\n",
    "* practically, we use 2 or 3 layers, as this has turned out to work well\n",
    "* the more neurons and the more layers you use the longer the network takes to train\n",
    "* neural networks often are no longer approachable using cross validation and grid search to find suitable hyper parameters"
   ]
  },
  {
   "cell_type": "markdown",
   "metadata": {
    "colab_type": "text",
    "id": "hLpFL8Az-CjI"
   },
   "source": [
    "## Neuron (aka node or unit)\n",
    "\n",
    "A neuron takes a number of numerical inputs, multiplies each with a weight, sums up all weighted input and adds bias (constant) to that sum. From this it creates a single numerical output. For one input (one dimension) this would be a description of a line. For more dimensions this describes a hyper plane that can serve as a decision boundary. Typically, this output is transformed using an activation function which compresses the output to a value between 0 and 1 (sigmoid), or between -1 and 1 (tanh) or sets all negative values to zero (relu).\n",
    "\n",
    "It is not really important to understand the details of a neural network. Practically how you configure them to form something more powerful is much more important. This, however, is still a very experimental domain, so there really is no conscise explanation and understanding how they work.\n",
    "\n",
    "<img src='https://raw.githubusercontent.com/DJCordhose/deep-learning-crash-course-notebooks/master/img/neuron.jpg'>"
   ]
  },
  {
   "cell_type": "markdown",
   "metadata": {
    "colab_type": "text",
    "id": "wqxVRG2H-CjJ"
   },
   "source": [
    "### We use a sequential mode, that means data flows without junctions from in to out"
   ]
  },
  {
   "cell_type": "code",
   "execution_count": null,
   "metadata": {
    "colab": {},
    "colab_type": "code",
    "id": "dFHfRNI2-CjK"
   },
   "outputs": [],
   "source": [
    "model = keras.Sequential()"
   ]
  },
  {
   "cell_type": "markdown",
   "metadata": {
    "colab_type": "text",
    "id": "YI3EeBRv-CjO"
   },
   "source": [
    "### We start with a single fully connected layer having 50 neurons\n",
    "* we have three inputs\n",
    "  * age \n",
    "  * speed\n",
    "  * miles\n",
    "* activation function is tanh\n",
    "* why these parameters: random for now"
   ]
  },
  {
   "cell_type": "code",
   "execution_count": null,
   "metadata": {
    "colab": {},
    "colab_type": "code",
    "id": "klm54Eiw-CjO"
   },
   "outputs": [],
   "source": [
    "from tensorflow.keras.layers import Dense\n",
    "\n",
    "model.add(Dense(50, name='hidden1', activation='tanh', input_dim=3))"
   ]
  },
  {
   "cell_type": "markdown",
   "metadata": {
    "colab_type": "text",
    "id": "OGwiKJh4-CjR"
   },
   "source": [
    "### The final layer just transforms to likelyhood for each of our 3 classes"
   ]
  },
  {
   "cell_type": "code",
   "execution_count": null,
   "metadata": {
    "colab": {},
    "colab_type": "code",
    "id": "ZixW-75K-CjS"
   },
   "outputs": [],
   "source": [
    "num_categories = 3\n",
    "model.add(Dense(num_categories, name='softmax', activation='softmax'))"
   ]
  },
  {
   "cell_type": "markdown",
   "metadata": {
    "colab_type": "text",
    "id": "MH_gda8M-CjU"
   },
   "source": [
    "### First, let us have a look at how the input and output from this model would look like\n",
    "\n",
    "* this model has not been trainined, so do not expect the outputs to be reasonable\n",
    "* we are only interested in the format of input and output\n",
    "* note that there is a mismatch between prediction and our known truths in format\n",
    "* we will fix this in the next step"
   ]
  },
  {
   "cell_type": "code",
   "execution_count": null,
   "metadata": {
    "colab": {},
    "colab_type": "code",
    "id": "M0JQ_Wm_-CjU"
   },
   "outputs": [],
   "source": [
    "input = X[0:10]"
   ]
  },
  {
   "cell_type": "code",
   "execution_count": null,
   "metadata": {
    "colab": {
     "base_uri": "https://localhost:8080/",
     "height": 190
    },
    "colab_type": "code",
    "id": "UYYe3Uzw-CjX",
    "outputId": "8573ff8d-bc87-4a54-abb2-a3fd420adae7"
   },
   "outputs": [],
   "source": [
    "# combinations of customer data\n",
    "input"
   ]
  },
  {
   "cell_type": "code",
   "execution_count": null,
   "metadata": {
    "colab": {
     "base_uri": "https://localhost:8080/",
     "height": 190
    },
    "colab_type": "code",
    "id": "3pSqeszs-Cjc",
    "outputId": "51f9bcb6-8b03-4b25-b5df-145ecb9188f3"
   },
   "outputs": [],
   "source": [
    "# predicted output: likeliyhoods for groups\n",
    "model.predict(input)"
   ]
  },
  {
   "cell_type": "code",
   "execution_count": null,
   "metadata": {
    "colab": {
     "base_uri": "https://localhost:8080/",
     "height": 207
    },
    "colab_type": "code",
    "id": "staTVEsp-Cjf",
    "outputId": "f0020da2-ae01-450f-e780-def5d5d0fb19"
   },
   "outputs": [],
   "source": [
    "# true, known output\n",
    "y[0:10]"
   ]
  },
  {
   "cell_type": "markdown",
   "metadata": {
    "colab_type": "text",
    "id": "60QFCfa_-Cji"
   },
   "source": [
    "### These are the parameters of the model that need to be learned"
   ]
  },
  {
   "cell_type": "code",
   "execution_count": null,
   "metadata": {
    "colab": {
     "base_uri": "https://localhost:8080/",
     "height": 207
    },
    "colab_type": "code",
    "id": "lqt6PpWM-Cjj",
    "outputId": "1a7c5469-b4e9-44ff-87cb-8c0b3a2d024e"
   },
   "outputs": [],
   "source": [
    "model.summary()"
   ]
  },
  {
   "cell_type": "markdown",
   "metadata": {
    "colab_type": "text",
    "id": "CSI3mK9y-Cjm"
   },
   "source": [
    "### Bringing it all together\n",
    "* _sparse_categorical_crossentropy_\n",
    "  * _crossentropy_: Loss is defined by https://en.wikipedia.org/wiki/Cross_entropy\n",
    "  * _categorical_: we are comparing categorical data\n",
    "  * _sparse_: allows us to leave our labels as they are without explicitly turning them into a one-hot encoding \n",
    "* _adam_: is the least tedious algorithm to minimize loss (http://cs231n.github.io/neural-networks-3/#ada)\n",
    "  * auto-tunes most important parameters including learning rate   "
   ]
  },
  {
   "cell_type": "code",
   "execution_count": null,
   "metadata": {
    "colab": {},
    "colab_type": "code",
    "id": "s2EaOaxL-Cjn"
   },
   "outputs": [],
   "source": [
    "model.compile(loss='sparse_categorical_crossentropy',\n",
    "             optimizer='adam')"
   ]
  },
  {
   "cell_type": "markdown",
   "metadata": {
    "colab_type": "text",
    "id": "B-OpSEsA-Cjr"
   },
   "source": [
    "# Caution: we have not trained our model, yet, the parameters are still initinialized randomly"
   ]
  },
  {
   "cell_type": "code",
   "execution_count": null,
   "metadata": {
    "colab": {},
    "colab_type": "code",
    "id": "R-yVJfKD-Cjs"
   },
   "outputs": [],
   "source": []
  }
 ],
 "metadata": {
  "accelerator": "GPU",
  "colab": {
   "include_colab_link": true,
   "name": "U3-M5-nn-intro.ipynb",
   "provenance": [],
   "version": "0.3.2"
  },
  "kernelspec": {
   "display_name": "Python 3",
   "language": "python",
   "name": "python3"
  },
  "language_info": {
   "codemirror_mode": {
    "name": "ipython",
    "version": 3
   },
   "file_extension": ".py",
   "mimetype": "text/x-python",
   "name": "python",
   "nbconvert_exporter": "python",
   "pygments_lexer": "ipython3",
   "version": "3.6.9"
  }
 },
 "nbformat": 4,
 "nbformat_minor": 1
}
